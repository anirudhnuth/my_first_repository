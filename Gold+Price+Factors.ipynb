{
 "cells": [
  {
   "cell_type": "markdown",
   "metadata": {},
   "source": [
    "Author: Anirudh Nuthalalapati Email: an1933@nyu.edu Gold prices have always seemed arbitrary. Sometimes people say that they have an inverse relationship with stock prices as alternative investments and sometimes they say that they are a direct function of supply and demand in the world. But, how factual are these assumptions. What do gold prices depend on and how can they change in several scenarios? This project will explore these issues in several steps:\n",
    "\n",
    "1. I'll describe the data and its source\n",
    "2. Change the data to fit a single template and congregate all of it into one picture.\n",
    "3. Look at individual relationships with gold prices and several of its supposed factors\n",
    "4. Use graphs to understand the nature of consumers in various scenarios\n",
    "5. Propose a further extension to possible research\n",
    "Data Report The key elements of the data, i.e. most of the individual factors that go into calculation of supply and demand are from a Thomson Gold Research Survey posted at the beginning of this year. The Url: http://thomsonreuters.ru/wp-content/uploads/2017/04/GFMS-Gold-Survey-2017.pdf.\n",
    "The world government reserve changes, gold prices, and ETF Holdings data I received as excel sheets from gold.org. Stock prices were S&P 500 stock prices from yahoo.com/finance and world gdp was from worldbank.org which were also as excel sheets. My first step was save all of them as .csv’s to easily access them using pd.read_csv. U.S. Currency value and inflation both came from FRED database. Interest rates came from treasury.gov. Volatility is just VIX index historical prices. \n",
    "\n",
    "In the analysis below, I'm going to use the following packages: \n",
    "• Pandas package which will be my core tool to import, manipulate, merge, and analyze the data \n",
    "• Matplotlib package which will assist me in plotting my results \n",
    "• numpy which will allow me to perform certain mathematical functions\n",
    "• statsmodels.formula.api for stats regressions\n",
    "• from IPython.display import display, Image for display effects"
   ]
  },
  {
   "cell_type": "code",
   "execution_count": 30,
   "metadata": {
    "collapsed": true
   },
   "outputs": [],
   "source": [
    "from IPython.display import display, Image\n",
    "import pandas as pd\n",
    "import matplotlib.pyplot as plt\n",
    "import numpy as np\n",
    "import statsmodels.api as sm\n",
    "import statsmodels.formula.api as smf\n",
    "%matplotlib inline\n"
   ]
  },
  {
   "cell_type": "markdown",
   "metadata": {},
   "source": [
    "Bring in the Data:"
   ]
  },
  {
   "cell_type": "code",
   "execution_count": 12,
   "metadata": {
    "collapsed": true
   },
   "outputs": [],
   "source": [
    "index = ['']\n",
    "columns = [\"2007\",\"2008\",\"2009\",\"2010\",\"2011\",\"2012\",\"2013\",'2014','2015','2016']\n",
    "demand = pd.DataFrame(index=index, columns=columns)\n",
    "supply = pd.DataFrame(index = index, columns = columns)\n",
    "\n",
    "s1 = pd.read_csv('C:\\Data_Bootcamp\\Bootcamp_CSV_files\\Mine_Supply.csv')\n",
    "\n",
    "s2 = pd.read_csv('C:\\Data_Bootcamp\\Bootcamp_CSV_files\\Supply_Scrap.csv')\n",
    "\n",
    "s3 = pd.read_csv('C:\\Data_Bootcamp\\Bootcamp_CSV_files\\Producer_Hedge.csv')\n",
    "\n",
    "d1 = pd.read_csv('C:\\Data_Bootcamp\\Bootcamp_CSV_files\\Jewelry_Demand.csv')\n",
    "\n",
    "d2 = pd.read_csv('C:\\Data_Bootcamp\\Bootcamp_CSV_files\\Technology_Demand.csv')\n",
    "\n",
    "d3 = pd.read_csv('C:\\Data_Bootcamp\\Bootcamp_CSV_files\\Bar_Demand.csv')\n",
    "\n",
    "d4 = pd.read_csv('C:\\Data_Bootcamp\\Bootcamp_CSV_files\\Coin_Demand.csv')\n",
    "\n",
    "d5 = pd.read_csv('C:\\Data_Bootcamp\\Bootcamp_CSV_files\\Reserve_Changes.csv')\n",
    "\n",
    "d6 = pd.read_csv('C:\\Data_Bootcamp\\Bootcamp_CSV_files\\ETF_Holdings.csv')\n",
    "\n",
    "d7 = pd.read_csv('C:\\Data_Bootcamp\\Bootcamp_CSV_files\\Demand_Medallion.csv')\n",
    "\n",
    "price = pd.read_csv('C:\\Data_Bootcamp\\Bootcamp_CSV_files\\Prices.csv')\n",
    "\n",
    "gdp = pd.read_csv('C:\\Data_Bootcamp\\Bootcamp_CSV_files\\World_GDP.csv')\n",
    "\n",
    "stock = pd.read_csv('C:\\Data_Bootcamp\\Bootcamp_CSV_files\\S&P_Prices.csv')\n",
    "\n",
    "usd = pd.read_csv('C:\\Data_Bootcamp\\Bootcamp_CSV_files\\Currency_USD.csv')\n",
    "\n",
    "inflation = pd.read_csv('C:\\Data_Bootcamp\\Bootcamp_CSV_files\\Inflation.csv')\n",
    "\n",
    "ir = pd.read_csv('C:\\Data_Bootcamp\\Bootcamp_CSV_files\\Interest_Rates.csv')\n",
    "\n",
    "volatility = pd.read_csv('C:\\Data_Bootcamp\\Bootcamp_CSV_files\\Volatility.csv')"
   ]
  },
  {
   "cell_type": "code",
   "execution_count": 13,
   "metadata": {
    "collapsed": true
   },
   "outputs": [],
   "source": [
    "for item in columns:\n",
    "    d1.at['Jewelry', item] = d1[item].sum()                    # Creating a summation row\n",
    "    \n",
    "for item in columns:\n",
    "    d2.at['Tech', item] = d2[item].sum()                       # Creating a summation row\n",
    "\n",
    "for item in columns:\n",
    "    d3.at['Bar', item] = d3[item].sum()                        # Creating a summation row\n",
    "\n",
    "for item in columns:\n",
    "    d4.at['Coin', item] = d4[item].sum()                       # Creating a summation row\n",
    "    \n",
    "for item in columns:\n",
    "    d5.at['Reserve_Changes', item] = d5[item].sum()            # Creating a summation row\n",
    "\n",
    "for item in columns:\n",
    "    d7.at[\"Medallions\", item] = d7[item].sum()                 # Creating a summation row\n",
    "\n",
    "for item in columns:\n",
    "    s1.at[\"Mine_Production\", item] = s1[item].sum()            # Creating a summation row\n",
    "\n",
    "for item in columns:\n",
    "    s2.at[\"Scrap_Supply\", item] = s2[item].sum()               # Creating a summation row\n",
    "\n",
    "for item in columns:\n",
    "    s3.at[\"Net_Hedging\", item] = s3[item].sum()                # Creating a summation row\n"
   ]
  },
  {
   "cell_type": "code",
   "execution_count": 40,
   "metadata": {},
   "outputs": [
    {
     "data": {
      "text/html": [
       "<div>\n",
       "<style>\n",
       "    .dataframe thead tr:only-child th {\n",
       "        text-align: right;\n",
       "    }\n",
       "\n",
       "    .dataframe thead th {\n",
       "        text-align: left;\n",
       "    }\n",
       "\n",
       "    .dataframe tbody tr th {\n",
       "        vertical-align: top;\n",
       "    }\n",
       "</style>\n",
       "<table border=\"1\" class=\"dataframe\">\n",
       "  <thead>\n",
       "    <tr style=\"text-align: right;\">\n",
       "      <th></th>\n",
       "      <th>Country</th>\n",
       "      <th>2007</th>\n",
       "      <th>2008</th>\n",
       "      <th>2009</th>\n",
       "      <th>2010</th>\n",
       "      <th>2011</th>\n",
       "      <th>2012</th>\n",
       "      <th>2013</th>\n",
       "      <th>2014</th>\n",
       "      <th>2015</th>\n",
       "      <th>2016</th>\n",
       "    </tr>\n",
       "  </thead>\n",
       "  <tbody>\n",
       "    <tr>\n",
       "      <th>15</th>\n",
       "      <td>Bangladesh</td>\n",
       "      <td>6.4</td>\n",
       "      <td>5.8</td>\n",
       "      <td>4.6</td>\n",
       "      <td>4.2</td>\n",
       "      <td>12.3</td>\n",
       "      <td>15.2</td>\n",
       "      <td>15.6</td>\n",
       "      <td>16.2</td>\n",
       "      <td>16.5</td>\n",
       "      <td>18.1</td>\n",
       "    </tr>\n",
       "    <tr>\n",
       "      <th>16</th>\n",
       "      <td>Italy</td>\n",
       "      <td>57.4</td>\n",
       "      <td>49.1</td>\n",
       "      <td>41.4</td>\n",
       "      <td>34.9</td>\n",
       "      <td>27.6</td>\n",
       "      <td>22.3</td>\n",
       "      <td>20.2</td>\n",
       "      <td>18.8</td>\n",
       "      <td>18.1</td>\n",
       "      <td>17.6</td>\n",
       "    </tr>\n",
       "    <tr>\n",
       "      <th>17</th>\n",
       "      <td>Canada</td>\n",
       "      <td>24.7</td>\n",
       "      <td>22.3</td>\n",
       "      <td>18.6</td>\n",
       "      <td>17.5</td>\n",
       "      <td>16.3</td>\n",
       "      <td>15.7</td>\n",
       "      <td>16.3</td>\n",
       "      <td>16.7</td>\n",
       "      <td>16.9</td>\n",
       "      <td>16.6</td>\n",
       "    </tr>\n",
       "    <tr>\n",
       "      <th>18</th>\n",
       "      <td>Vietnam</td>\n",
       "      <td>22.2</td>\n",
       "      <td>21.5</td>\n",
       "      <td>16.4</td>\n",
       "      <td>15.6</td>\n",
       "      <td>14.2</td>\n",
       "      <td>12.6</td>\n",
       "      <td>13.5</td>\n",
       "      <td>14.2</td>\n",
       "      <td>15.8</td>\n",
       "      <td>16.3</td>\n",
       "    </tr>\n",
       "    <tr>\n",
       "      <th>Jewelry</th>\n",
       "      <td>NaN</td>\n",
       "      <td>2113.7</td>\n",
       "      <td>2054.0</td>\n",
       "      <td>1672.7</td>\n",
       "      <td>1865.6</td>\n",
       "      <td>1869.9</td>\n",
       "      <td>1835.8</td>\n",
       "      <td>2484.4</td>\n",
       "      <td>2234.5</td>\n",
       "      <td>2103.2</td>\n",
       "      <td>1677.5</td>\n",
       "    </tr>\n",
       "  </tbody>\n",
       "</table>\n",
       "</div>"
      ],
      "text/plain": [
       "            Country    2007    2008    2009    2010    2011    2012    2013  \\\n",
       "15       Bangladesh     6.4     5.8     4.6     4.2    12.3    15.2    15.6   \n",
       "16            Italy    57.4    49.1    41.4    34.9    27.6    22.3    20.2   \n",
       "17           Canada    24.7    22.3    18.6    17.5    16.3    15.7    16.3   \n",
       "18          Vietnam    22.2    21.5    16.4    15.6    14.2    12.6    13.5   \n",
       "Jewelry         NaN  2113.7  2054.0  1672.7  1865.6  1869.9  1835.8  2484.4   \n",
       "\n",
       "           2014    2015    2016  \n",
       "15         16.2    16.5    18.1  \n",
       "16         18.8    18.1    17.6  \n",
       "17         16.7    16.9    16.6  \n",
       "18         14.2    15.8    16.3  \n",
       "Jewelry  2234.5  2103.2  1677.5  "
      ]
     },
     "metadata": {},
     "output_type": "display_data"
    }
   ],
   "source": [
    "display(d1.tail(5))                                            #example of the format"
   ]
  },
  {
   "cell_type": "code",
   "execution_count": 14,
   "metadata": {
    "collapsed": true
   },
   "outputs": [],
   "source": [
    "d6 = d6.drop(d6.index[0:48])                                   #editing d6 structure for more user friendly use\n",
    "d6 = d6.drop(\"Gold, US$/oz\", axis = 1)\n",
    "d6 = d6.drop(\"Ounces\", axis = 1)\n",
    "d6 = d6.drop(\"Tonnes\", axis = 1)\n",
    "d6 = d6.drop(\"Value (USD)\", axis = 1)\n",
    "d6 = d6.drop(\"Date\", axis = 1)\n",
    "\n",
    "for column in list(d6):\n",
    "    d6.at['2007', column] = d6[column][0:10].sum()/10          #Changing monthly numbers to yearly \n",
    "for column in list(d6):\n",
    "    d6.at[\"2008\", column] = d6[column][10:22].sum()/12         #Changing monthly numbers to yearly \n",
    "for column in list(d6):\n",
    "    d6.at[\"2009\", column] = d6[column][22:34].sum()/12         #Changing monthly numbers to yearly \n",
    "for column in list(d6):\n",
    "    d6.at[\"2010\", column] = d6[column][34:46].sum()/12         #Changing monthly numbers to yearly \n",
    "for column in list(d6): \n",
    "    d6.at[\"2011\", column] = d6[column][46:58].sum()/12         #Changing monthly numbers to yearly \n",
    "for column in list(d6):\n",
    "    d6.at[\"2012\", column] = d6[column][58:70].sum()/12         #Changing monthly numbers to yearly \n",
    "for column in list(d6):\n",
    "    d6.at[\"2013\", column] = d6[column][70:82].sum()/12         #Changing monthly numbers to yearly \n",
    "for column in list(d6):\n",
    "    d6.at[\"2014\", column] = d6[column][82:94].sum()/12         #Changing monthly numbers to yearly \n",
    "for column in list(d6):\n",
    "    d6.at[\"2015\", column] = d6[column][94:106].sum()/12        #Changing monthly numbers to yearly \n",
    "for column in list(d6):\n",
    "    d6.at[\"2016\", column] = d6[column][106:118].sum()/12       #Changing monthly numbers to yearly \n",
    "\n",
    "d6 = d6.drop(d6.index[0:129])\n",
    "\n",
    "d6 = d6.transpose()\n",
    "for column in columns:\n",
    "    d6.at['ETF_Holdings', column] = d6[column].sum()           #Creating summation row\n",
    "\n",
    "d6 = d6.transpose()\n",
    "d6[\"ETF_Change\"] = d6[\"ETF_Holdings\"].diff()                   #Finding YoY change, which is the demand, not total ETF holdings\n",
    "d6 = d6.transpose()"
   ]
  },
  {
   "cell_type": "code",
   "execution_count": 41,
   "metadata": {},
   "outputs": [
    {
     "data": {
      "text/html": [
       "<div>\n",
       "<style>\n",
       "    .dataframe thead tr:only-child th {\n",
       "        text-align: right;\n",
       "    }\n",
       "\n",
       "    .dataframe thead th {\n",
       "        text-align: left;\n",
       "    }\n",
       "\n",
       "    .dataframe tbody tr th {\n",
       "        vertical-align: top;\n",
       "    }\n",
       "</style>\n",
       "<table border=\"1\" class=\"dataframe\">\n",
       "  <thead>\n",
       "    <tr style=\"text-align: right;\">\n",
       "      <th></th>\n",
       "      <th>2007</th>\n",
       "      <th>2008</th>\n",
       "      <th>2009</th>\n",
       "      <th>2010</th>\n",
       "      <th>2011</th>\n",
       "      <th>2012</th>\n",
       "      <th>2013</th>\n",
       "      <th>2014</th>\n",
       "      <th>2015</th>\n",
       "      <th>2016</th>\n",
       "    </tr>\n",
       "  </thead>\n",
       "  <tbody>\n",
       "    <tr>\n",
       "      <th>South Africa</th>\n",
       "      <td>15.829566</td>\n",
       "      <td>27.581727</td>\n",
       "      <td>39.922853</td>\n",
       "      <td>49.644806</td>\n",
       "      <td>46.381271</td>\n",
       "      <td>41.726142</td>\n",
       "      <td>43.596050</td>\n",
       "      <td>39.732973</td>\n",
       "      <td>29.297724</td>\n",
       "      <td>35.132341</td>\n",
       "    </tr>\n",
       "    <tr>\n",
       "      <th>Turkey</th>\n",
       "      <td>1.300000</td>\n",
       "      <td>1.300000</td>\n",
       "      <td>1.316417</td>\n",
       "      <td>1.455000</td>\n",
       "      <td>1.472000</td>\n",
       "      <td>1.616417</td>\n",
       "      <td>1.238079</td>\n",
       "      <td>0.908712</td>\n",
       "      <td>0.664000</td>\n",
       "      <td>0.519669</td>\n",
       "    </tr>\n",
       "    <tr>\n",
       "      <th>UAE</th>\n",
       "      <td>0.000000</td>\n",
       "      <td>0.000000</td>\n",
       "      <td>0.129600</td>\n",
       "      <td>0.155520</td>\n",
       "      <td>0.155520</td>\n",
       "      <td>0.155520</td>\n",
       "      <td>0.090720</td>\n",
       "      <td>0.000000</td>\n",
       "      <td>0.000000</td>\n",
       "      <td>0.000000</td>\n",
       "    </tr>\n",
       "    <tr>\n",
       "      <th>ETF_Holdings</th>\n",
       "      <td>762.804644</td>\n",
       "      <td>1037.978044</td>\n",
       "      <td>1714.756707</td>\n",
       "      <td>2120.287346</td>\n",
       "      <td>2361.069123</td>\n",
       "      <td>2670.370016</td>\n",
       "      <td>2304.706467</td>\n",
       "      <td>1854.342242</td>\n",
       "      <td>1723.416560</td>\n",
       "      <td>2122.979104</td>\n",
       "    </tr>\n",
       "    <tr>\n",
       "      <th>ETF_Change</th>\n",
       "      <td>NaN</td>\n",
       "      <td>275.173400</td>\n",
       "      <td>676.778663</td>\n",
       "      <td>405.530638</td>\n",
       "      <td>240.781778</td>\n",
       "      <td>309.300892</td>\n",
       "      <td>-365.663549</td>\n",
       "      <td>-450.364225</td>\n",
       "      <td>-130.925682</td>\n",
       "      <td>399.562544</td>\n",
       "    </tr>\n",
       "  </tbody>\n",
       "</table>\n",
       "</div>"
      ],
      "text/plain": [
       "                    2007         2008         2009         2010         2011  \\\n",
       "South Africa   15.829566    27.581727    39.922853    49.644806    46.381271   \n",
       "Turkey          1.300000     1.300000     1.316417     1.455000     1.472000   \n",
       "UAE             0.000000     0.000000     0.129600     0.155520     0.155520   \n",
       "ETF_Holdings  762.804644  1037.978044  1714.756707  2120.287346  2361.069123   \n",
       "ETF_Change           NaN   275.173400   676.778663   405.530638   240.781778   \n",
       "\n",
       "                     2012         2013         2014         2015         2016  \n",
       "South Africa    41.726142    43.596050    39.732973    29.297724    35.132341  \n",
       "Turkey           1.616417     1.238079     0.908712     0.664000     0.519669  \n",
       "UAE              0.155520     0.090720     0.000000     0.000000     0.000000  \n",
       "ETF_Holdings  2670.370016  2304.706467  1854.342242  1723.416560  2122.979104  \n",
       "ETF_Change     309.300892  -365.663549  -450.364225  -130.925682   399.562544  "
      ]
     },
     "metadata": {},
     "output_type": "display_data"
    }
   ],
   "source": [
    "display(d6.tail(5))"
   ]
  },
  {
   "cell_type": "code",
   "execution_count": 15,
   "metadata": {},
   "outputs": [],
   "source": [
    "price = price.drop(price.index[1:17])                          #editing structure\n",
    "price = price.drop(list(price)[1:30], axis = 1)\n",
    "\n",
    "for column in columns:\n",
    "    price.at['Gold_Price', column] = price[column].sum()       #summation row"
   ]
  },
  {
   "cell_type": "code",
   "execution_count": 16,
   "metadata": {
    "collapsed": true
   },
   "outputs": [],
   "source": [
    "gdp = gdp.drop(list(gdp)[1:51], axis = 1) #editing structure\n",
    "for column in columns:\n",
    "    gdp.at['World_GDP', column] = gdp[column].sum()            #summation row"
   ]
  },
  {
   "cell_type": "code",
   "execution_count": 17,
   "metadata": {
    "collapsed": true
   },
   "outputs": [],
   "source": [
    "stock = stock.set_index(\"Date\")                                #set index\n",
    "\n",
    "for column in list(stock):\n",
    "    stock.at['2007', column] = stock[column][0:12].sum()/12    #changing monthly to yearly average\n",
    "for column in list(stock):\n",
    "    stock.at[\"2008\", column] = stock[column][12:24].sum()/12   #changing monthly to yearly average\n",
    "for column in list(stock):\n",
    "    stock.at[\"2009\", column] = stock[column][24:36].sum()/12   #changing monthly to yearly average\n",
    "for column in list(stock):\n",
    "    stock.at[\"2010\", column] = stock[column][36:48].sum()/12   #changing monthly to yearly average\n",
    "for column in list(stock):\n",
    "    stock.at[\"2011\", column] = stock[column][48:60].sum()/12   #changing monthly to yearly average\n",
    "for column in list(stock):\n",
    "    stock.at[\"2012\", column] = stock[column][60:72].sum()/12   #changing monthly to yearly average\n",
    "for column in list(stock):\n",
    "    stock.at[\"2013\", column] = stock[column][72:84].sum()/12   #changing monthly to yearly average\n",
    "for column in list(stock):\n",
    "    stock.at[\"2014\", column] = stock[column][84:96].sum()/12   #changing monthly to yearly average\n",
    "for column in list(stock): \n",
    "    stock.at[\"2015\", column] = stock[column][96:108].sum()/12  #changing monthly to yearly average\n",
    "for column in list(stock):\n",
    "    stock.at[\"2016\", column] = stock[column][108:120].sum()/12 #changing monthly to yearly average\n",
    "\n",
    "stock = stock.drop(stock.index[0:120])                         #editing structure\n",
    "stock = stock.drop(list(stock)[1:6], axis = 1)\n",
    "stock = stock.rename(columns = {'Open':'Stock_Price'})         #changing column name\n",
    "stock = stock.transpose()"
   ]
  },
  {
   "cell_type": "code",
   "execution_count": 18,
   "metadata": {
    "collapsed": true
   },
   "outputs": [],
   "source": [
    "usd = usd.set_index(\"DATE\")                                    #set index\n",
    "usd = usd.transpose()\n",
    "usd.columns = [\"2007\",\"2008\",\"2009\",\"2010\",\"2011\",             #original Date values were integers, \n",
    "                  \"2012\",\"2013\",'2014','2015','2016']          #we needed strings for consistency\n",
    "for column in list(usd):\n",
    "    usd.at[\"USD_Value\", column] = usd[column].sum()            #summation row"
   ]
  },
  {
   "cell_type": "code",
   "execution_count": 19,
   "metadata": {
    "collapsed": true
   },
   "outputs": [],
   "source": [
    "inflation = inflation.drop(inflation.index[11:105]) #editing\n",
    "inflation = inflation.drop(inflation.index[0:1])\n",
    "inflation = inflation.drop(list(inflation)[1:13], axis = 1)\n",
    "inflation = inflation.iloc[::-1]                                  #reversing the scale from 2016-2007 to 2007-2016\n",
    "inflation.columns = [\"Date\",\"Inflation\"]                          #change column name\n",
    "inflation = inflation.set_index(\"Date\")                           #set index\n",
    "inflation = inflation.transpose()\n",
    "for column in list(inflation):\n",
    "    inflation.at[\"Average_CPI\", column] = inflation[column].sum() #summation\n",
    "inflation.columns = [\"2007\",\"2008\",\"2009\",\"2010\",\"2011\",          #changing column name type\n",
    "                  \"2012\",\"2013\",'2014','2015','2016']"
   ]
  },
  {
   "cell_type": "code",
   "execution_count": 20,
   "metadata": {
    "collapsed": true
   },
   "outputs": [],
   "source": [
    "ir = ir.drop(list(ir)[1:9], axis = 1)                              #editting\n",
    "ir = ir.drop(list(ir)[2:4], axis = 1)\n",
    "ir = ir.set_index(\"Date\")                                          #set index\n",
    "ir = ir.transpose()\n",
    "ir.columns = columns                                               #changing column name type\n",
    "for column in list(ir):\n",
    "    ir.at[\"Interest_Rate\", column] = ir[column].sum()"
   ]
  },
  {
   "cell_type": "code",
   "execution_count": 21,
   "metadata": {
    "collapsed": true
   },
   "outputs": [],
   "source": [
    "volatility = volatility.drop(list(volatility)[2:7], axis = 1)            #editing\n",
    "volatility = volatility.set_index(list(volatility)[0])\n",
    "for column in list(volatility):\n",
    "    volatility.at[\"2007\", column] = volatility[column][0:12].sum()/12    #changing monthly to yearly average\n",
    "for column in list(volatility):\n",
    "    volatility.at[\"2008\", column] = volatility[column][12:24].sum()/12   #changing monthly to yearly average\n",
    "for column in list(volatility):\n",
    "    volatility.at[\"2009\", column] = volatility[column][24:36].sum()/12   #changing monthly to yearly average\n",
    "for column in list(volatility):\n",
    "    volatility.at[\"2010\", column] = volatility[column][36:48].sum()/12   #changing monthly to yearly average\n",
    "for column in list(volatility):\n",
    "    volatility.at[\"2011\", column] = volatility[column][48:60].sum()/12   #changing monthly to yearly average\n",
    "for column in list(volatility):\n",
    "    volatility.at[\"2012\", column] = volatility[column][60:72].sum()/12   #changing monthly to yearly average\n",
    "for column in list(volatility):\n",
    "    volatility.at[\"2013\", column] = volatility[column][72:84].sum()/12   #changing monthly to yearly average\n",
    "for column in list(volatility):\n",
    "    volatility.at[\"2014\", column] = volatility[column][84:96].sum()/12   #changing monthly to yearly average\n",
    "for column in list(volatility):\n",
    "    volatility.at[\"2015\", column] = volatility[column][96:108].sum()/12   #changing monthly to yearly average\n",
    "for column in list(volatility):\n",
    "    volatility.at[\"2016\", column] = volatility[column][108:120].sum()/12  #changing monthly to yearly average\n",
    "volatility = volatility.drop(volatility.index[0:120], axis = 0)\n",
    "volatility = volatility.transpose()\n",
    "volatility.columns = columns                                               #keeping columns constant\n",
    "for column in list(ir):\n",
    "    volatility.at[\"Volatility\", column] = volatility[column].sum()         #summation row"
   ]
  },
  {
   "cell_type": "code",
   "execution_count": 22,
   "metadata": {
    "collapsed": true
   },
   "outputs": [],
   "source": [
    "demand = demand.append(d1[19:20])                                         #appending row to demand\n",
    "demand = demand.append(d2[3:4])                                           \n",
    "demand = demand.append(d3[23:24])                                         \n",
    "demand = demand.append(d4[14:15])\n",
    "demand = demand.append(d5[157:158])\n",
    "demand = demand.append(d6[17:18])\n",
    "demand = demand.append(d7[2:3])\n",
    "supply = supply.append(s1[37:38])                                          #appending row to supply\n",
    "supply = supply.append(s2[32:33])\n",
    "supply = supply.append(s3[1:2])\n",
    "for column in columns:\n",
    "    demand.at['Total_Demand', column] = demand[column].sum()                #summation row, finding total demand\n",
    "for column in columns:\n",
    "    supply.at['Total_Supply', column] = supply[column].sum()                #summation row, finding total supply"
   ]
  },
  {
   "cell_type": "code",
   "execution_count": 51,
   "metadata": {},
   "outputs": [
    {
     "data": {
      "text/html": [
       "<div>\n",
       "<style>\n",
       "    .dataframe thead tr:only-child th {\n",
       "        text-align: right;\n",
       "    }\n",
       "\n",
       "    .dataframe thead th {\n",
       "        text-align: left;\n",
       "    }\n",
       "\n",
       "    .dataframe tbody tr th {\n",
       "        vertical-align: top;\n",
       "    }\n",
       "</style>\n",
       "<table border=\"1\" class=\"dataframe\">\n",
       "  <thead>\n",
       "    <tr style=\"text-align: right;\">\n",
       "      <th></th>\n",
       "      <th>Jewelry</th>\n",
       "      <th>Tech</th>\n",
       "      <th>Bar</th>\n",
       "      <th>Coin</th>\n",
       "      <th>Reserve_Changes</th>\n",
       "      <th>ETF_Change</th>\n",
       "      <th>Medallions</th>\n",
       "      <th>Total_Demand</th>\n",
       "      <th>Gold_Price</th>\n",
       "      <th>World_GDP</th>\n",
       "      <th>Stock_Price</th>\n",
       "      <th>USD_Value</th>\n",
       "      <th>Average_CPI</th>\n",
       "      <th>Interest_Rate</th>\n",
       "      <th>Volatility</th>\n",
       "    </tr>\n",
       "  </thead>\n",
       "  <tbody>\n",
       "    <tr>\n",
       "      <th>2012</th>\n",
       "      <td>1835.8</td>\n",
       "      <td>429</td>\n",
       "      <td>1057.7</td>\n",
       "      <td>237.9</td>\n",
       "      <td>433.6</td>\n",
       "      <td>309.301</td>\n",
       "      <td>113.4</td>\n",
       "      <td>4416.7</td>\n",
       "      <td>1657.5</td>\n",
       "      <td>6.15946e+14</td>\n",
       "      <td>1372.59</td>\n",
       "      <td>99.7971</td>\n",
       "      <td>229.594</td>\n",
       "      <td>1.80344</td>\n",
       "      <td>18.6517</td>\n",
       "    </tr>\n",
       "    <tr>\n",
       "      <th>2013</th>\n",
       "      <td>2484.4</td>\n",
       "      <td>421</td>\n",
       "      <td>1445.4</td>\n",
       "      <td>325.7</td>\n",
       "      <td>341.6</td>\n",
       "      <td>-365.664</td>\n",
       "      <td>103.8</td>\n",
       "      <td>4756.24</td>\n",
       "      <td>1204.5</td>\n",
       "      <td>6.38287e+14</td>\n",
       "      <td>1618.35</td>\n",
       "      <td>100.902</td>\n",
       "      <td>232.957</td>\n",
       "      <td>2.35016</td>\n",
       "      <td>14.8658</td>\n",
       "    </tr>\n",
       "    <tr>\n",
       "      <th>2014</th>\n",
       "      <td>2234.5</td>\n",
       "      <td>403</td>\n",
       "      <td>887.5</td>\n",
       "      <td>200.1</td>\n",
       "      <td>261</td>\n",
       "      <td>-450.364</td>\n",
       "      <td>77.4</td>\n",
       "      <td>3613.14</td>\n",
       "      <td>1206</td>\n",
       "      <td>6.56878e+14</td>\n",
       "      <td>1926.67</td>\n",
       "      <td>103.989</td>\n",
       "      <td>236.736</td>\n",
       "      <td>2.53956</td>\n",
       "      <td>14.45</td>\n",
       "    </tr>\n",
       "    <tr>\n",
       "      <th>2015</th>\n",
       "      <td>2103.2</td>\n",
       "      <td>366</td>\n",
       "      <td>878.4</td>\n",
       "      <td>212.2</td>\n",
       "      <td>882.8</td>\n",
       "      <td>-130.926</td>\n",
       "      <td>73.4</td>\n",
       "      <td>4385.07</td>\n",
       "      <td>1060</td>\n",
       "      <td>6.1812e+14</td>\n",
       "      <td>2054.11</td>\n",
       "      <td>117.102</td>\n",
       "      <td>237.017</td>\n",
       "      <td>2.13829</td>\n",
       "      <td>17.61</td>\n",
       "    </tr>\n",
       "    <tr>\n",
       "      <th>2016</th>\n",
       "      <td>1677.5</td>\n",
       "      <td>354</td>\n",
       "      <td>788.5</td>\n",
       "      <td>218.7</td>\n",
       "      <td>81.8</td>\n",
       "      <td>399.563</td>\n",
       "      <td>52.1</td>\n",
       "      <td>3572.16</td>\n",
       "      <td>1145.9</td>\n",
       "      <td>6.24655e+14</td>\n",
       "      <td>2088.91</td>\n",
       "      <td>122.392</td>\n",
       "      <td>240.008</td>\n",
       "      <td>1.83744</td>\n",
       "      <td>16.1575</td>\n",
       "    </tr>\n",
       "  </tbody>\n",
       "</table>\n",
       "</div>"
      ],
      "text/plain": [
       "     Jewelry Tech     Bar   Coin Reserve_Changes ETF_Change Medallions  \\\n",
       "2012  1835.8  429  1057.7  237.9           433.6    309.301      113.4   \n",
       "2013  2484.4  421  1445.4  325.7           341.6   -365.664      103.8   \n",
       "2014  2234.5  403   887.5  200.1             261   -450.364       77.4   \n",
       "2015  2103.2  366   878.4  212.2           882.8   -130.926       73.4   \n",
       "2016  1677.5  354   788.5  218.7            81.8    399.563       52.1   \n",
       "\n",
       "     Total_Demand Gold_Price    World_GDP Stock_Price USD_Value Average_CPI  \\\n",
       "2012       4416.7     1657.5  6.15946e+14     1372.59   99.7971     229.594   \n",
       "2013      4756.24     1204.5  6.38287e+14     1618.35   100.902     232.957   \n",
       "2014      3613.14       1206  6.56878e+14     1926.67   103.989     236.736   \n",
       "2015      4385.07       1060   6.1812e+14     2054.11   117.102     237.017   \n",
       "2016      3572.16     1145.9  6.24655e+14     2088.91   122.392     240.008   \n",
       "\n",
       "     Interest_Rate Volatility  \n",
       "2012       1.80344    18.6517  \n",
       "2013       2.35016    14.8658  \n",
       "2014       2.53956      14.45  \n",
       "2015       2.13829      17.61  \n",
       "2016       1.83744    16.1575  "
      ]
     },
     "metadata": {},
     "output_type": "display_data"
    }
   ],
   "source": [
    "display(demand.tail(5))"
   ]
  },
  {
   "cell_type": "code",
   "execution_count": 52,
   "metadata": {
    "scrolled": false
   },
   "outputs": [
    {
     "data": {
      "text/html": [
       "<div>\n",
       "<style>\n",
       "    .dataframe thead tr:only-child th {\n",
       "        text-align: right;\n",
       "    }\n",
       "\n",
       "    .dataframe thead th {\n",
       "        text-align: left;\n",
       "    }\n",
       "\n",
       "    .dataframe tbody tr th {\n",
       "        vertical-align: top;\n",
       "    }\n",
       "</style>\n",
       "<table border=\"1\" class=\"dataframe\">\n",
       "  <thead>\n",
       "    <tr style=\"text-align: right;\">\n",
       "      <th></th>\n",
       "      <th>Mine_Production</th>\n",
       "      <th>Scrap_Supply</th>\n",
       "      <th>Net_Hedging</th>\n",
       "      <th>Total_Supply</th>\n",
       "    </tr>\n",
       "  </thead>\n",
       "  <tbody>\n",
       "    <tr>\n",
       "      <th>2012</th>\n",
       "      <td>2883.3</td>\n",
       "      <td>1700.6</td>\n",
       "      <td>-40</td>\n",
       "      <td>4543.9</td>\n",
       "    </tr>\n",
       "    <tr>\n",
       "      <th>2013</th>\n",
       "      <td>3076.6</td>\n",
       "      <td>1303.5</td>\n",
       "      <td>-39</td>\n",
       "      <td>4341.1</td>\n",
       "    </tr>\n",
       "    <tr>\n",
       "      <th>2014</th>\n",
       "      <td>3172.4</td>\n",
       "      <td>1158.3</td>\n",
       "      <td>108</td>\n",
       "      <td>4438.7</td>\n",
       "    </tr>\n",
       "    <tr>\n",
       "      <th>2015</th>\n",
       "      <td>3208.6</td>\n",
       "      <td>1172.1</td>\n",
       "      <td>21</td>\n",
       "      <td>4401.7</td>\n",
       "    </tr>\n",
       "    <tr>\n",
       "      <th>2016</th>\n",
       "      <td>3222.2</td>\n",
       "      <td>1268</td>\n",
       "      <td>21</td>\n",
       "      <td>4511.2</td>\n",
       "    </tr>\n",
       "  </tbody>\n",
       "</table>\n",
       "</div>"
      ],
      "text/plain": [
       "     Mine_Production Scrap_Supply Net_Hedging Total_Supply\n",
       "2012          2883.3       1700.6         -40       4543.9\n",
       "2013          3076.6       1303.5         -39       4341.1\n",
       "2014          3172.4       1158.3         108       4438.7\n",
       "2015          3208.6       1172.1          21       4401.7\n",
       "2016          3222.2         1268          21       4511.2"
      ]
     },
     "metadata": {},
     "output_type": "display_data"
    }
   ],
   "source": [
    "display(supply.tail(5))"
   ]
  },
  {
   "cell_type": "code",
   "execution_count": 55,
   "metadata": {},
   "outputs": [
    {
     "name": "stdout",
     "output_type": "stream",
     "text": [
      "0.022483194619398184\n"
     ]
    }
   ],
   "source": [
    "x = ((3222)/2883)**(.2)-1\n",
    "print(x)"
   ]
  },
  {
   "cell_type": "markdown",
   "metadata": {},
   "source": [
    " - mine production has been very stable in the last 5 years, increasing at roughly 2.25% CAGR\n",
    " - scrap supply has always been reliant on supply in previous years as we can see the dramatic increase in demand from the Great Depression trickle down back into the market from 2012 onwards. Using a lagged time series regression to simulate a waterfall chart, we could potentially predict future supply as well.\n"
   ]
  },
  {
   "cell_type": "code",
   "execution_count": 23,
   "metadata": {
    "collapsed": true
   },
   "outputs": [],
   "source": [
    "demand = demand.append(price[1:2])                                          #appending row to demand\n",
    "demand = demand.append(gdp[264:265])\n",
    "demand = demand.append(stock[0:1])\n",
    "demand = demand.append(usd[1:2])\n",
    "demand = demand.append(inflation[1:2])\n",
    "demand = demand.append(ir[1:2])\n",
    "demand = demand.append(volatility[1:2])"
   ]
  },
  {
   "cell_type": "code",
   "execution_count": 24,
   "metadata": {
    "collapsed": true
   },
   "outputs": [],
   "source": [
    "demand = demand.transpose()                                                  #editting demand and supply datastructures\n",
    "supply = supply.transpose()\n",
    "\n",
    "demand = demand.drop(list(demand)[0:1], axis = 1)\n",
    "demand = demand.dropna(how='all')\n",
    "supply = supply.dropna(how = 'all')\n",
    "supply = supply.drop(list(supply)[0:1], axis = 1)"
   ]
  },
  {
   "cell_type": "code",
   "execution_count": 25,
   "metadata": {
    "collapsed": true
   },
   "outputs": [],
   "source": [
    "gold = pd.concat([demand, supply], axis=1)                                    #merge supply and demand\n",
    "gold = gold.reset_index()                                                     #reset_index to use years as a variable\n",
    "gold=gold.rename(columns = {'index':'Years'})                                 #change column name from index to years"
   ]
  },
  {
   "cell_type": "code",
   "execution_count": 31,
   "metadata": {
    "scrolled": true
   },
   "outputs": [
    {
     "data": {
      "text/plain": [
       "<matplotlib.axes._subplots.AxesSubplot at 0x2d3d91f3358>"
      ]
     },
     "execution_count": 31,
     "metadata": {},
     "output_type": "execute_result"
    },
    {
     "data": {
      "image/png": "[encoded data removed]",
      "text/plain": [
       "<matplotlib.figure.Figure at 0x2d3d91605c0>"
      ]
     },
     "metadata": {},
     "output_type": "display_data"
    }
   ],
   "source": [
    "ax = gold.plot(kind = 'line',                                               #plot of demand and supply\n",
    "          x = 'Years',\n",
    "          y = 'Total_Demand',\n",
    "          color = 'b',\n",
    "          label = 'Demand')\n",
    "\n",
    "gold.plot(kind = 'line',\n",
    "          x = 'Years',\n",
    "          y = 'Total_Supply',\n",
    "          color = 'r',\n",
    "          label = 'Supply',\n",
    "          ax=ax)"
   ]
  },
  {
   "cell_type": "markdown",
   "metadata": {},
   "source": [
    "From this initial curve, we can see from the abrupt increases and decreases over each year that demand has a much higher price elasticity than supply in the short run. So, we can assume that demand has a lot more volatile short term factors involved that affect it that supply does. In the long run, the price elasticity pattern continues, so the same can be said about demand long term factors. The biggest factor that really affects supply is gold prices itself. Depending on the price they can get, sellers will choose to withhold more or less of their gold supply, waiting for better years. "
   ]
  },
  {
   "cell_type": "code",
   "execution_count": 32,
   "metadata": {},
   "outputs": [
    {
     "name": "stderr",
     "output_type": "stream",
     "text": [
      "C:\\Users\\Anirudh\\Anaconda3\\lib\\site-packages\\ipykernel_launcher.py:11: RuntimeWarning: invalid value encountered in log\n",
      "  # This is added back by InteractiveShellApp.init_path()\n"
     ]
    }
   ],
   "source": [
    "gold['diff'] = gold['Total_Supply']-gold['Total_Demand']                                 #math variables created for the use of\n",
    "gold[\"d_pct_change\"] = gold['Total_Demand'].pct_change(periods = 1)                      #regressions and graphs\n",
    "gold[\"s_pct_change\"] = gold['Total_Supply'].pct_change(periods = 1)\n",
    "gold['price_pct_change'] = gold['Gold_Price'].pct_change(periods = 1)\n",
    "gold['gdp_pct_change'] = gold['World_GDP'].pct_change(periods = 1)\n",
    "gold['realgold'] = gold[\"Gold_Price\"] / gold[\"Average_CPI\"]\n",
    "gold['realusd'] = gold['USD_Value'] / gold['Average_CPI']\n",
    "gold['logprice'] = np.log(gold.Gold_Price.astype(int))\n",
    "gold['logusd'] = np.log((gold.USD_Value.astype(int)))\n",
    "gold['logrealgold'] = np.log(gold.realgold.astype(int))\n",
    "gold['logreserve'] = np.log(gold.Reserve_Changes.astype(int))\n",
    "gold['logir'] = np.log(gold.Interest_Rate.astype(int))\n",
    "gold['logstock'] = np.log(gold.Stock_Price.astype(int))\n",
    "gold['logvol'] = np.log(gold.Volatility.astype(int))\n",
    "gold['loggdp'] = np.log(gold.World_GDP)\n"
   ]
  },
  {
   "cell_type": "code",
   "execution_count": 53,
   "metadata": {
    "scrolled": false
   },
   "outputs": [
    {
     "data": {
      "text/html": [
       "<div>\n",
       "<style>\n",
       "    .dataframe thead tr:only-child th {\n",
       "        text-align: right;\n",
       "    }\n",
       "\n",
       "    .dataframe thead th {\n",
       "        text-align: left;\n",
       "    }\n",
       "\n",
       "    .dataframe tbody tr th {\n",
       "        vertical-align: top;\n",
       "    }\n",
       "</style>\n",
       "<table border=\"1\" class=\"dataframe\">\n",
       "  <thead>\n",
       "    <tr style=\"text-align: right;\">\n",
       "      <th></th>\n",
       "      <th>Years</th>\n",
       "      <th>Jewelry</th>\n",
       "      <th>Tech</th>\n",
       "      <th>Bar</th>\n",
       "      <th>Coin</th>\n",
       "      <th>Reserve_Changes</th>\n",
       "      <th>ETF_Change</th>\n",
       "      <th>Medallions</th>\n",
       "      <th>Total_Demand</th>\n",
       "      <th>Gold_Price</th>\n",
       "      <th>...</th>\n",
       "      <th>gdp_pct_change</th>\n",
       "      <th>realgold</th>\n",
       "      <th>realusd</th>\n",
       "      <th>logprice</th>\n",
       "      <th>logusd</th>\n",
       "      <th>logrealgold</th>\n",
       "      <th>logreserve</th>\n",
       "      <th>logir</th>\n",
       "      <th>logstock</th>\n",
       "      <th>logvol</th>\n",
       "    </tr>\n",
       "  </thead>\n",
       "  <tbody>\n",
       "    <tr>\n",
       "      <th>5</th>\n",
       "      <td>2012</td>\n",
       "      <td>1835.8</td>\n",
       "      <td>429</td>\n",
       "      <td>1057.7</td>\n",
       "      <td>237.9</td>\n",
       "      <td>433.6</td>\n",
       "      <td>309.301</td>\n",
       "      <td>113.4</td>\n",
       "      <td>4416.7</td>\n",
       "      <td>1657.5</td>\n",
       "      <td>...</td>\n",
       "      <td>0.025883</td>\n",
       "      <td>7.21927</td>\n",
       "      <td>0.434668</td>\n",
       "      <td>7.412764</td>\n",
       "      <td>4.595120</td>\n",
       "      <td>1.945910</td>\n",
       "      <td>6.070738</td>\n",
       "      <td>0.000000</td>\n",
       "      <td>7.224025</td>\n",
       "      <td>2.890372</td>\n",
       "    </tr>\n",
       "    <tr>\n",
       "      <th>6</th>\n",
       "      <td>2013</td>\n",
       "      <td>2484.4</td>\n",
       "      <td>421</td>\n",
       "      <td>1445.4</td>\n",
       "      <td>325.7</td>\n",
       "      <td>341.6</td>\n",
       "      <td>-365.664</td>\n",
       "      <td>103.8</td>\n",
       "      <td>4756.24</td>\n",
       "      <td>1204.5</td>\n",
       "      <td>...</td>\n",
       "      <td>0.036270</td>\n",
       "      <td>5.17048</td>\n",
       "      <td>0.433134</td>\n",
       "      <td>7.093405</td>\n",
       "      <td>4.605170</td>\n",
       "      <td>1.609438</td>\n",
       "      <td>5.831882</td>\n",
       "      <td>0.693147</td>\n",
       "      <td>7.388946</td>\n",
       "      <td>2.639057</td>\n",
       "    </tr>\n",
       "    <tr>\n",
       "      <th>7</th>\n",
       "      <td>2014</td>\n",
       "      <td>2234.5</td>\n",
       "      <td>403</td>\n",
       "      <td>887.5</td>\n",
       "      <td>200.1</td>\n",
       "      <td>261</td>\n",
       "      <td>-450.364</td>\n",
       "      <td>77.4</td>\n",
       "      <td>3613.14</td>\n",
       "      <td>1206</td>\n",
       "      <td>...</td>\n",
       "      <td>0.029127</td>\n",
       "      <td>5.09428</td>\n",
       "      <td>0.439261</td>\n",
       "      <td>7.095064</td>\n",
       "      <td>4.634729</td>\n",
       "      <td>1.609438</td>\n",
       "      <td>5.564520</td>\n",
       "      <td>0.693147</td>\n",
       "      <td>7.563201</td>\n",
       "      <td>2.639057</td>\n",
       "    </tr>\n",
       "    <tr>\n",
       "      <th>8</th>\n",
       "      <td>2015</td>\n",
       "      <td>2103.2</td>\n",
       "      <td>366</td>\n",
       "      <td>878.4</td>\n",
       "      <td>212.2</td>\n",
       "      <td>882.8</td>\n",
       "      <td>-130.926</td>\n",
       "      <td>73.4</td>\n",
       "      <td>4385.07</td>\n",
       "      <td>1060</td>\n",
       "      <td>...</td>\n",
       "      <td>-0.059003</td>\n",
       "      <td>4.47225</td>\n",
       "      <td>0.494065</td>\n",
       "      <td>6.966024</td>\n",
       "      <td>4.762174</td>\n",
       "      <td>1.386294</td>\n",
       "      <td>6.782192</td>\n",
       "      <td>0.693147</td>\n",
       "      <td>7.627544</td>\n",
       "      <td>2.833213</td>\n",
       "    </tr>\n",
       "    <tr>\n",
       "      <th>9</th>\n",
       "      <td>2016</td>\n",
       "      <td>1677.5</td>\n",
       "      <td>354</td>\n",
       "      <td>788.5</td>\n",
       "      <td>218.7</td>\n",
       "      <td>81.8</td>\n",
       "      <td>399.563</td>\n",
       "      <td>52.1</td>\n",
       "      <td>3572.16</td>\n",
       "      <td>1145.9</td>\n",
       "      <td>...</td>\n",
       "      <td>0.010571</td>\n",
       "      <td>4.77442</td>\n",
       "      <td>0.509951</td>\n",
       "      <td>7.043160</td>\n",
       "      <td>4.804021</td>\n",
       "      <td>1.386294</td>\n",
       "      <td>4.394449</td>\n",
       "      <td>0.000000</td>\n",
       "      <td>7.643962</td>\n",
       "      <td>2.772589</td>\n",
       "    </tr>\n",
       "  </tbody>\n",
       "</table>\n",
       "<p>5 rows × 34 columns</p>\n",
       "</div>"
      ],
      "text/plain": [
       "  Years Jewelry Tech     Bar   Coin Reserve_Changes ETF_Change Medallions  \\\n",
       "5  2012  1835.8  429  1057.7  237.9           433.6    309.301      113.4   \n",
       "6  2013  2484.4  421  1445.4  325.7           341.6   -365.664      103.8   \n",
       "7  2014  2234.5  403   887.5  200.1             261   -450.364       77.4   \n",
       "8  2015  2103.2  366   878.4  212.2           882.8   -130.926       73.4   \n",
       "9  2016  1677.5  354   788.5  218.7            81.8    399.563       52.1   \n",
       "\n",
       "  Total_Demand Gold_Price    ...    gdp_pct_change realgold   realusd  \\\n",
       "5       4416.7     1657.5    ...          0.025883  7.21927  0.434668   \n",
       "6      4756.24     1204.5    ...          0.036270  5.17048  0.433134   \n",
       "7      3613.14       1206    ...          0.029127  5.09428  0.439261   \n",
       "8      4385.07       1060    ...         -0.059003  4.47225  0.494065   \n",
       "9      3572.16     1145.9    ...          0.010571  4.77442  0.509951   \n",
       "\n",
       "   logprice    logusd logrealgold logreserve     logir  logstock    logvol  \n",
       "5  7.412764  4.595120    1.945910   6.070738  0.000000  7.224025  2.890372  \n",
       "6  7.093405  4.605170    1.609438   5.831882  0.693147  7.388946  2.639057  \n",
       "7  7.095064  4.634729    1.609438   5.564520  0.693147  7.563201  2.639057  \n",
       "8  6.966024  4.762174    1.386294   6.782192  0.693147  7.627544  2.833213  \n",
       "9  7.043160  4.804021    1.386294   4.394449  0.000000  7.643962  2.772589  \n",
       "\n",
       "[5 rows x 34 columns]"
      ]
     },
     "metadata": {},
     "output_type": "display_data"
    }
   ],
   "source": [
    "display(gold.tail(5))"
   ]
  },
  {
   "cell_type": "markdown",
   "metadata": {},
   "source": [
    "Now that we have all the variables together, we can begin comparing factors of demand and supply with each other. Initial observations:\n",
    " - gold demand seems to be in a slump, which conforms with expections as gold prices have been increasing in recent terms and with the resurgence of the equities market from the Great Depression, we are seeing more and more investment within that area, which can be seen with the rapidly increasing stock prices and low volatility. \n",
    " - Tech demand seems to also be in a slump, as many tech companies are focusing away from using gold in tech due to its high prices. With newer alternatives constantly surfacing, I don't see tech demand to surge for at least next 5 years. \n",
    " - Gold ever remains a solid alternative investment for portfolio diversification, known for its price stability, so we can see a very stable demand for bars, coins, and medallions\n",
    " - ETF Holdings have increasing by 400 tonnes in 2016, which is interesting because usually an ETF increases its holdings when it expects gold prices to dip which can be seen in 2014 when they dropped 450 tonnes in the market in anticipation of the decrease in gold prices in 2015. So, from this relationship, does that mean gold prices are expected to increase in 2017 and 2018?"
   ]
  },
  {
   "cell_type": "code",
   "execution_count": 33,
   "metadata": {
    "scrolled": true
   },
   "outputs": [
    {
     "data": {
      "text/plain": [
       "<matplotlib.axes._subplots.AxesSubplot at 0x2d3d9371518>"
      ]
     },
     "execution_count": 33,
     "metadata": {},
     "output_type": "execute_result"
    },
    {
     "data": {
      "image/png": "[encoded data removed]",
      "text/plain": [
       "<matplotlib.figure.Figure at 0x2d3d9348470>"
      ]
     },
     "metadata": {},
     "output_type": "display_data"
    }
   ],
   "source": []
  },
  {
   "cell_type": "code",
   "execution_count": 34,
   "metadata": {
    "scrolled": true
   },
   "outputs": [
    {
     "data": {
      "text/plain": [
       "<matplotlib.axes._subplots.AxesSubplot at 0x2d3d8be65c0>"
      ]
     },
     "execution_count": 34,
     "metadata": {},
     "output_type": "execute_result"
    },
    {
     "data": {
      "image/png": "[encoded data removed]",
      "text/plain": [
       "<matplotlib.figure.Figure at 0x2d3d8bc6400>"
      ]
     },
     "metadata": {},
     "output_type": "display_data"
    }
   ],
   "source": [
    "ax = gold.plot(kind = 'line',                            #plot of the log of USD currency and log real gold prices\n",
    "          x = 'Years',\n",
    "          y = 'logusd',\n",
    "          color = 'b',\n",
    "          label = 'Log USD Value'\n",
    "          )\n",
    "\n",
    "gold.plot(kind = 'line',\n",
    "          x = 'Years',\n",
    "          y = 'logrealgold',\n",
    "          color = 'r',\n",
    "          label = 'log Inflation-adjusted gold prices',\n",
    "          ax=ax\n",
    "          )"
   ]
  },
  {
   "cell_type": "markdown",
   "metadata": {},
   "source": [
    " - strong correlation between USD value and gold prices as we confirmed before"
   ]
  },
  {
   "cell_type": "code",
   "execution_count": 35,
   "metadata": {},
   "outputs": [
    {
     "data": {
      "text/plain": [
       "<matplotlib.axes._subplots.AxesSubplot at 0x2d3d947be10>"
      ]
     },
     "execution_count": 35,
     "metadata": {},
     "output_type": "execute_result"
    },
    {
     "data": {
      "image/png": "[encoded data removed]",
      "text/plain": [
       "<matplotlib.figure.Figure at 0x2d3d9494cf8>"
      ]
     },
     "metadata": {},
     "output_type": "display_data"
    }
   ],
   "source": [
    "gold.plot(kind = 'line',                               #plot of volatility over the years\n",
    "          x = 'Years',\n",
    "          y= 'Volatility',\n",
    "          color = 'b',\n",
    "          label = 'VIX volatility',\n",
    "          )"
   ]
  },
  {
   "cell_type": "markdown",
   "metadata": {},
   "source": [
    "- as a comparison, with all the other graphs, we can see the correlation between gold prices and volatility of equities, since when investors are worried about sudden changes in stock prices, they tend to shift towards the more stable, but lower returns gold"
   ]
  },
  {
   "cell_type": "code",
   "execution_count": 58,
   "metadata": {
    "scrolled": true
   },
   "outputs": [
    {
     "name": "stderr",
     "output_type": "stream",
     "text": [
      "C:\\Users\\Anirudh\\Anaconda3\\lib\\site-packages\\scipy\\stats\\stats.py:1334: UserWarning: kurtosistest only valid for n>=20 ... continuing anyway, n=10\n",
      "  \"anyway, n=%i\" % int(n))\n"
     ]
    },
    {
     "data": {
      "text/html": [
       "<table class=\"simpletable\">\n",
       "<caption>OLS Regression Results</caption>\n",
       "<tr>\n",
       "  <th>Dep. Variable:</th>       <td>logrealgold</td>   <th>  R-squared:         </th> <td>   0.656</td>\n",
       "</tr>\n",
       "<tr>\n",
       "  <th>Model:</th>                   <td>OLS</td>       <th>  Adj. R-squared:    </th> <td>   0.484</td>\n",
       "</tr>\n",
       "<tr>\n",
       "  <th>Method:</th>             <td>Least Squares</td>  <th>  F-statistic:       </th> <td>   3.813</td>\n",
       "</tr>\n",
       "<tr>\n",
       "  <th>Date:</th>             <td>Sat, 23 Dec 2017</td> <th>  Prob (F-statistic):</th>  <td>0.0767</td> \n",
       "</tr>\n",
       "<tr>\n",
       "  <th>Time:</th>                 <td>23:37:41</td>     <th>  Log-Likelihood:    </th> <td>  7.5600</td>\n",
       "</tr>\n",
       "<tr>\n",
       "  <th>No. Observations:</th>      <td>    10</td>      <th>  AIC:               </th> <td>  -7.120</td>\n",
       "</tr>\n",
       "<tr>\n",
       "  <th>Df Residuals:</th>          <td>     6</td>      <th>  BIC:               </th> <td>  -5.910</td>\n",
       "</tr>\n",
       "<tr>\n",
       "  <th>Df Model:</th>              <td>     3</td>      <th>                     </th>     <td> </td>   \n",
       "</tr>\n",
       "<tr>\n",
       "  <th>Covariance Type:</th>      <td>nonrobust</td>    <th>                     </th>     <td> </td>   \n",
       "</tr>\n",
       "</table>\n",
       "<table class=\"simpletable\">\n",
       "<tr>\n",
       "      <td></td>         <th>coef</th>     <th>std err</th>      <th>t</th>      <th>P>|t|</th>  <th>[0.025</th>    <th>0.975]</th>  \n",
       "</tr>\n",
       "<tr>\n",
       "  <th>Intercept</th> <td>   11.2413</td> <td>    3.391</td> <td>    3.315</td> <td> 0.016</td> <td>    2.944</td> <td>   19.538</td>\n",
       "</tr>\n",
       "<tr>\n",
       "  <th>logvol</th>    <td>    0.1013</td> <td>    0.178</td> <td>    0.568</td> <td> 0.590</td> <td>   -0.335</td> <td>    0.537</td>\n",
       "</tr>\n",
       "<tr>\n",
       "  <th>logir</th>     <td>   -0.2802</td> <td>    0.123</td> <td>   -2.272</td> <td> 0.063</td> <td>   -0.582</td> <td>    0.022</td>\n",
       "</tr>\n",
       "<tr>\n",
       "  <th>logusd</th>    <td>   -2.0967</td> <td>    0.699</td> <td>   -2.998</td> <td> 0.024</td> <td>   -3.808</td> <td>   -0.385</td>\n",
       "</tr>\n",
       "</table>\n",
       "<table class=\"simpletable\">\n",
       "<tr>\n",
       "  <th>Omnibus:</th>       <td> 3.530</td> <th>  Durbin-Watson:     </th> <td>   1.867</td>\n",
       "</tr>\n",
       "<tr>\n",
       "  <th>Prob(Omnibus):</th> <td> 0.171</td> <th>  Jarque-Bera (JB):  </th> <td>   0.725</td>\n",
       "</tr>\n",
       "<tr>\n",
       "  <th>Skew:</th>          <td>-0.485</td> <th>  Prob(JB):          </th> <td>   0.696</td>\n",
       "</tr>\n",
       "<tr>\n",
       "  <th>Kurtosis:</th>      <td> 3.893</td> <th>  Cond. No.          </th> <td>    423.</td>\n",
       "</tr>\n",
       "</table>"
      ],
      "text/plain": [
       "<class 'statsmodels.iolib.summary.Summary'>\n",
       "\"\"\"\n",
       "                            OLS Regression Results                            \n",
       "==============================================================================\n",
       "Dep. Variable:            logrealgold   R-squared:                       0.656\n",
       "Model:                            OLS   Adj. R-squared:                  0.484\n",
       "Method:                 Least Squares   F-statistic:                     3.813\n",
       "Date:                Sat, 23 Dec 2017   Prob (F-statistic):             0.0767\n",
       "Time:                        23:37:41   Log-Likelihood:                 7.5600\n",
       "No. Observations:                  10   AIC:                            -7.120\n",
       "Df Residuals:                       6   BIC:                            -5.910\n",
       "Df Model:                           3                                         \n",
       "Covariance Type:            nonrobust                                         \n",
       "==============================================================================\n",
       "                 coef    std err          t      P>|t|      [0.025      0.975]\n",
       "------------------------------------------------------------------------------\n",
       "Intercept     11.2413      3.391      3.315      0.016       2.944      19.538\n",
       "logvol         0.1013      0.178      0.568      0.590      -0.335       0.537\n",
       "logir         -0.2802      0.123     -2.272      0.063      -0.582       0.022\n",
       "logusd        -2.0967      0.699     -2.998      0.024      -3.808      -0.385\n",
       "==============================================================================\n",
       "Omnibus:                        3.530   Durbin-Watson:                   1.867\n",
       "Prob(Omnibus):                  0.171   Jarque-Bera (JB):                0.725\n",
       "Skew:                          -0.485   Prob(JB):                        0.696\n",
       "Kurtosis:                       3.893   Cond. No.                         423.\n",
       "==============================================================================\n",
       "\n",
       "Warnings:\n",
       "[1] Standard Errors assume that the covariance matrix of the errors is correctly specified.\n",
       "\"\"\""
      ]
     },
     "metadata": {},
     "output_type": "display_data"
    }
   ],
   "source": [
    "result4 = smf.ols(formula='logrealgold ~ logvol + logir + logusd', data=gold).fit()  #regression using log real gold prices, \n",
    "display(result4.summary())                               #log of VIX prices, log of stock prices, and log of USD currency value"
   ]
  },
  {
   "cell_type": "markdown",
   "metadata": {},
   "source": [
    "-this is showing the little impact interest rates by themselves have on gold prices, contrary to popular belief. But, as we expected volatility has a positive impact on gold prices, while interest rates and USD currency have a negative effect."
   ]
  },
  {
   "cell_type": "code",
   "execution_count": 38,
   "metadata": {},
   "outputs": [
    {
     "name": "stderr",
     "output_type": "stream",
     "text": [
      "C:\\Users\\Anirudh\\Anaconda3\\lib\\site-packages\\scipy\\stats\\stats.py:1334: UserWarning: kurtosistest only valid for n>=20 ... continuing anyway, n=9\n",
      "  \"anyway, n=%i\" % int(n))\n"
     ]
    },
    {
     "data": {
      "text/html": [
       "<table class=\"simpletable\">\n",
       "<caption>OLS Regression Results</caption>\n",
       "<tr>\n",
       "  <th>Dep. Variable:</th>       <td>logrealgold</td>   <th>  R-squared:         </th> <td>   0.515</td>\n",
       "</tr>\n",
       "<tr>\n",
       "  <th>Model:</th>                   <td>OLS</td>       <th>  Adj. R-squared:    </th> <td>   0.224</td>\n",
       "</tr>\n",
       "<tr>\n",
       "  <th>Method:</th>             <td>Least Squares</td>  <th>  F-statistic:       </th> <td>   1.768</td>\n",
       "</tr>\n",
       "<tr>\n",
       "  <th>Date:</th>             <td>Sat, 23 Dec 2017</td> <th>  Prob (F-statistic):</th>  <td> 0.269</td> \n",
       "</tr>\n",
       "<tr>\n",
       "  <th>Time:</th>                 <td>22:16:10</td>     <th>  Log-Likelihood:    </th> <td>  5.3745</td>\n",
       "</tr>\n",
       "<tr>\n",
       "  <th>No. Observations:</th>      <td>     9</td>      <th>  AIC:               </th> <td>  -2.749</td>\n",
       "</tr>\n",
       "<tr>\n",
       "  <th>Df Residuals:</th>          <td>     5</td>      <th>  BIC:               </th> <td>  -1.960</td>\n",
       "</tr>\n",
       "<tr>\n",
       "  <th>Df Model:</th>              <td>     3</td>      <th>                     </th>     <td> </td>   \n",
       "</tr>\n",
       "<tr>\n",
       "  <th>Covariance Type:</th>      <td>nonrobust</td>    <th>                     </th>     <td> </td>   \n",
       "</tr>\n",
       "</table>\n",
       "<table class=\"simpletable\">\n",
       "<tr>\n",
       "         <td></td>           <th>coef</th>     <th>std err</th>      <th>t</th>      <th>P>|t|</th>  <th>[0.025</th>    <th>0.975]</th>  \n",
       "</tr>\n",
       "<tr>\n",
       "  <th>Intercept</th>      <td>    5.6952</td> <td>    2.096</td> <td>    2.717</td> <td> 0.042</td> <td>    0.307</td> <td>   11.084</td>\n",
       "</tr>\n",
       "<tr>\n",
       "  <th>logir</th>          <td>   -0.2953</td> <td>    0.181</td> <td>   -1.630</td> <td> 0.164</td> <td>   -0.761</td> <td>    0.170</td>\n",
       "</tr>\n",
       "<tr>\n",
       "  <th>logstock</th>       <td>   -0.5364</td> <td>    0.277</td> <td>   -1.937</td> <td> 0.111</td> <td>   -1.248</td> <td>    0.176</td>\n",
       "</tr>\n",
       "<tr>\n",
       "  <th>gdp_pct_change</th> <td>    0.7084</td> <td>    0.978</td> <td>    0.724</td> <td> 0.501</td> <td>   -1.806</td> <td>    3.223</td>\n",
       "</tr>\n",
       "</table>\n",
       "<table class=\"simpletable\">\n",
       "<tr>\n",
       "  <th>Omnibus:</th>       <td> 1.828</td> <th>  Durbin-Watson:     </th> <td>   0.961</td>\n",
       "</tr>\n",
       "<tr>\n",
       "  <th>Prob(Omnibus):</th> <td> 0.401</td> <th>  Jarque-Bera (JB):  </th> <td>   1.186</td>\n",
       "</tr>\n",
       "<tr>\n",
       "  <th>Skew:</th>          <td>-0.784</td> <th>  Prob(JB):          </th> <td>   0.553</td>\n",
       "</tr>\n",
       "<tr>\n",
       "  <th>Kurtosis:</th>      <td> 2.161</td> <th>  Cond. No.          </th> <td>    264.</td>\n",
       "</tr>\n",
       "</table>"
      ],
      "text/plain": [
       "<class 'statsmodels.iolib.summary.Summary'>\n",
       "\"\"\"\n",
       "                            OLS Regression Results                            \n",
       "==============================================================================\n",
       "Dep. Variable:            logrealgold   R-squared:                       0.515\n",
       "Model:                            OLS   Adj. R-squared:                  0.224\n",
       "Method:                 Least Squares   F-statistic:                     1.768\n",
       "Date:                Sat, 23 Dec 2017   Prob (F-statistic):              0.269\n",
       "Time:                        22:16:10   Log-Likelihood:                 5.3745\n",
       "No. Observations:                   9   AIC:                            -2.749\n",
       "Df Residuals:                       5   BIC:                            -1.960\n",
       "Df Model:                           3                                         \n",
       "Covariance Type:            nonrobust                                         \n",
       "==================================================================================\n",
       "                     coef    std err          t      P>|t|      [0.025      0.975]\n",
       "----------------------------------------------------------------------------------\n",
       "Intercept          5.6952      2.096      2.717      0.042       0.307      11.084\n",
       "logir             -0.2953      0.181     -1.630      0.164      -0.761       0.170\n",
       "logstock          -0.5364      0.277     -1.937      0.111      -1.248       0.176\n",
       "gdp_pct_change     0.7084      0.978      0.724      0.501      -1.806       3.223\n",
       "==============================================================================\n",
       "Omnibus:                        1.828   Durbin-Watson:                   0.961\n",
       "Prob(Omnibus):                  0.401   Jarque-Bera (JB):                1.186\n",
       "Skew:                          -0.784   Prob(JB):                        0.553\n",
       "Kurtosis:                       2.161   Cond. No.                         264.\n",
       "==============================================================================\n",
       "\n",
       "Warnings:\n",
       "[1] Standard Errors assume that the covariance matrix of the errors is correctly specified.\n",
       "\"\"\""
      ]
     },
     "metadata": {},
     "output_type": "display_data"
    }
   ],
   "source": [
    "result2 = smf.ols(formula='logrealgold ~ logir + logstock + gdp_pct_change', data=gold).fit() #regression\n",
    "display(result2.summary())"
   ]
  },
  {
   "cell_type": "code",
   "execution_count": 39,
   "metadata": {
    "scrolled": true
   },
   "outputs": [
    {
     "name": "stdout",
     "output_type": "stream",
     "text": [
      "                            OLS Regression Results                            \n",
      "==============================================================================\n",
      "Dep. Variable:               logprice   R-squared:                       0.558\n",
      "Model:                            OLS   Adj. R-squared:                  0.381\n",
      "Method:                 Least Squares   F-statistic:                     3.157\n",
      "Date:                Sat, 23 Dec 2017   Prob (F-statistic):              0.130\n",
      "Time:                        22:16:18   Log-Likelihood:                 6.8965\n",
      "No. Observations:                   8   AIC:                            -7.793\n",
      "Df Residuals:                       5   BIC:                            -7.555\n",
      "Df Model:                           2                                         \n",
      "Covariance Type:            nonrobust                                         \n",
      "==============================================================================\n",
      "                 coef    std err          t      P>|t|      [0.025      0.975]\n",
      "------------------------------------------------------------------------------\n",
      "Intercept     14.4753      2.919      4.959      0.004       6.972      21.978\n",
      "logreserve    -0.0626      0.065     -0.959      0.381      -0.230       0.105\n",
      "logusd        -1.4963      0.604     -2.478      0.056      -3.049       0.056\n",
      "==============================================================================\n",
      "Omnibus:                        0.444   Durbin-Watson:                   1.841\n",
      "Prob(Omnibus):                  0.801   Jarque-Bera (JB):                0.417\n",
      "Skew:                           0.396   Prob(JB):                        0.812\n",
      "Kurtosis:                       2.210   Cond. No.                         489.\n",
      "==============================================================================\n",
      "\n",
      "Warnings:\n",
      "[1] Standard Errors assume that the covariance matrix of the errors is correctly specified.\n"
     ]
    },
    {
     "name": "stderr",
     "output_type": "stream",
     "text": [
      "C:\\Users\\Anirudh\\Anaconda3\\lib\\site-packages\\scipy\\stats\\stats.py:1334: UserWarning: kurtosistest only valid for n>=20 ... continuing anyway, n=8\n",
      "  \"anyway, n=%i\" % int(n))\n"
     ]
    }
   ],
   "source": [
    "result = smf.ols(formula='logprice ~ logreserve + logusd', data=gold).fit()\n",
    "print(result.summary())"
   ]
  },
  {
   "cell_type": "markdown",
   "metadata": {},
   "source": [
    "This is a very obvious relationship, gold prices have a negative correlation to Government reserves and USD currency because governments are exactly like investors wishing to buy low and sell high and US currency has an direct effect on gold prices."
   ]
  },
  {
   "cell_type": "code",
   "execution_count": 59,
   "metadata": {
    "scrolled": true
   },
   "outputs": [
    {
     "data": {
      "text/plain": [
       "<matplotlib.axes._subplots.AxesSubplot at 0x2d3d9a181d0>"
      ]
     },
     "execution_count": 59,
     "metadata": {},
     "output_type": "execute_result"
    },
    {
     "data": {
      "image/png": "[encoded data removed]",
      "text/plain": [
       "<matplotlib.figure.Figure at 0x2d3d95346d8>"
      ]
     },
     "metadata": {},
     "output_type": "display_data"
    }
   ],
   "source": [
    "ax = gold.plot(kind = 'line',                                             #plot of interest rates and inflation-adjusted gold\n",
    "          x = 'Years',                                                    #prices\n",
    "          y = 'Interest_Rate',\n",
    "          color = 'b',\n",
    "          label = 'Interest rates'\n",
    "          )\n",
    "\n",
    "gold.plot(kind = 'line',\n",
    "          x = 'Years',\n",
    "          y = 'realgold',\n",
    "          color = 'r',\n",
    "          label = 'Inflation-adjusted gold prices',\n",
    "          ax=ax\n",
    "          )"
   ]
  },
  {
   "cell_type": "markdown",
   "metadata": {},
   "source": [
    "- there is a strong negative correlation between interest rates and inflation adjusted gold prices as everyone believes. But, the question is: why isn't 1.0? Well, the answer isn't as simple as adding a couple other factors. These factors work hand in hand with each other. For example, interest rates cause stocks especially banks to be more profitable with higher returns, so as an alternative investment, gold prices are naturally hurt with increasing interest rates. However, the magnitude of the effect really depends on many more factors including volatility, political affairs, world gdp growth as a proxy for consumer spending growth, and us currency value since gold is dollar denominated. Because of these effects, sometimes decreasing interest rates can even cause gold prices to drop as shown in 2012."
   ]
  },
  {
   "cell_type": "markdown",
   "metadata": {},
   "source": [
    "Conclusion:\n",
    "    Overall, we saw that out of the many factors that the populace believe to adversely affect gold prices, only a few actually do. First of all, it was proven that interest rates by themselves, do not have a major impact as shown in the last graph with interest rates and gold prices inflation adjusted. The biggest and really only reason that interest rates have a strong negative correlation is because many factors go hand in hand with it including USD currency, stock rally, and decreased inflation. Together, they control how gold demand and prices move. Second, gold supply is a very stable aspect of gold prices. Due to its relatively low price inelasticity, it keeps demand in check and allows for price stability for the asset overall. In my opinion, the only major factors that affect supply are pricing of unrefined gold and cost of mining since more than 50% of total supply comes from mines. Therfore, how much the miners sell is a good indicator of how much supply we will get."
   ]
  }
 ],
 "metadata": {
  "kernelspec": {
   "display_name": "Python 3",
   "language": "python",
   "name": "python3"
  },
  "language_info": {
   "codemirror_mode": {
    "name": "ipython",
    "version": 3
   },
   "file_extension": ".py",
   "mimetype": "text/x-python",
   "name": "python",
   "nbconvert_exporter": "python",
   "pygments_lexer": "ipython3",
   "version": "3.6.1"
  }
 },
 "nbformat": 4,
 "nbformat_minor": 2
}
